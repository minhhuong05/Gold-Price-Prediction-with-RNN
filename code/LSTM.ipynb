{
 "cells": [
  {
   "cell_type": "code",
   "execution_count": 3,
   "id": "3bae7157",
   "metadata": {},
   "outputs": [],
   "source": [
    "import numpy as np\n",
    "import pandas as pd\n",
    "import matplotlib.pyplot as plt\n",
    "from sklearn.preprocessing import MinMaxScaler\n",
    "from sklearn.model_selection import train_test_split\n",
    "# from tensorflow.keras.models import Sequential\n",
    "# from tensorflow.keras.layers import LSTM, Dense, Dropout\n",
    "# import tensorflow as tf\n",
    "import seaborn as sns\n",
    "import matplotlib.pyplot as plt\n",
    "# from keras_tuner.tuners import RandomSearch"
   ]
  },
  {
   "cell_type": "code",
   "execution_count": 4,
   "id": "619c3928",
   "metadata": {},
   "outputs": [],
   "source": [
    "train = pd.read_csv(r\"C:\\Users\\Dell\\Downloads\\Gold Price (2013-2023).csv\")"
   ]
  },
  {
   "cell_type": "code",
   "execution_count": 6,
   "id": "c7106fef",
   "metadata": {},
   "outputs": [],
   "source": [
    "test = pd.read_csv(r\"C:\\Users\\Dell\\Downloads\\gold_price(2023).csv\")"
   ]
  },
  {
   "cell_type": "code",
   "execution_count": 7,
   "id": "173855b7",
   "metadata": {},
   "outputs": [
    {
     "data": {
      "text/html": [
       "<div>\n",
       "<style scoped>\n",
       "    .dataframe tbody tr th:only-of-type {\n",
       "        vertical-align: middle;\n",
       "    }\n",
       "\n",
       "    .dataframe tbody tr th {\n",
       "        vertical-align: top;\n",
       "    }\n",
       "\n",
       "    .dataframe thead th {\n",
       "        text-align: right;\n",
       "    }\n",
       "</style>\n",
       "<table border=\"1\" class=\"dataframe\">\n",
       "  <thead>\n",
       "    <tr style=\"text-align: right;\">\n",
       "      <th></th>\n",
       "      <th>Date</th>\n",
       "      <th>Price</th>\n",
       "      <th>Open</th>\n",
       "      <th>High</th>\n",
       "      <th>Low</th>\n",
       "      <th>Vol.</th>\n",
       "      <th>Change %</th>\n",
       "    </tr>\n",
       "  </thead>\n",
       "  <tbody>\n",
       "    <tr>\n",
       "      <th>0</th>\n",
       "      <td>12/30/2022</td>\n",
       "      <td>1,826.20</td>\n",
       "      <td>1,821.80</td>\n",
       "      <td>1,832.40</td>\n",
       "      <td>1,819.80</td>\n",
       "      <td>107.50K</td>\n",
       "      <td>0.01%</td>\n",
       "    </tr>\n",
       "    <tr>\n",
       "      <th>1</th>\n",
       "      <td>12/29/2022</td>\n",
       "      <td>1,826.00</td>\n",
       "      <td>1,812.30</td>\n",
       "      <td>1,827.30</td>\n",
       "      <td>1,811.20</td>\n",
       "      <td>105.99K</td>\n",
       "      <td>0.56%</td>\n",
       "    </tr>\n",
       "    <tr>\n",
       "      <th>2</th>\n",
       "      <td>12/28/2022</td>\n",
       "      <td>1,815.80</td>\n",
       "      <td>1,822.40</td>\n",
       "      <td>1,822.80</td>\n",
       "      <td>1,804.20</td>\n",
       "      <td>118.08K</td>\n",
       "      <td>-0.40%</td>\n",
       "    </tr>\n",
       "    <tr>\n",
       "      <th>3</th>\n",
       "      <td>12/27/2022</td>\n",
       "      <td>1,823.10</td>\n",
       "      <td>1,808.20</td>\n",
       "      <td>1,841.90</td>\n",
       "      <td>1,808.00</td>\n",
       "      <td>159.62K</td>\n",
       "      <td>0.74%</td>\n",
       "    </tr>\n",
       "    <tr>\n",
       "      <th>4</th>\n",
       "      <td>12/26/2022</td>\n",
       "      <td>1,809.70</td>\n",
       "      <td>1,805.80</td>\n",
       "      <td>1,811.95</td>\n",
       "      <td>1,805.55</td>\n",
       "      <td>NaN</td>\n",
       "      <td>0.30%</td>\n",
       "    </tr>\n",
       "  </tbody>\n",
       "</table>\n",
       "</div>"
      ],
      "text/plain": [
       "         Date     Price      Open      High       Low     Vol. Change %\n",
       "0  12/30/2022  1,826.20  1,821.80  1,832.40  1,819.80  107.50K    0.01%\n",
       "1  12/29/2022  1,826.00  1,812.30  1,827.30  1,811.20  105.99K    0.56%\n",
       "2  12/28/2022  1,815.80  1,822.40  1,822.80  1,804.20  118.08K   -0.40%\n",
       "3  12/27/2022  1,823.10  1,808.20  1,841.90  1,808.00  159.62K    0.74%\n",
       "4  12/26/2022  1,809.70  1,805.80  1,811.95  1,805.55      NaN    0.30%"
      ]
     },
     "execution_count": 7,
     "metadata": {},
     "output_type": "execute_result"
    }
   ],
   "source": [
    "train.head()"
   ]
  },
  {
   "cell_type": "code",
   "execution_count": 8,
   "id": "0d307a07",
   "metadata": {},
   "outputs": [
    {
     "name": "stdout",
     "output_type": "stream",
     "text": [
      "<class 'pandas.core.frame.DataFrame'>\n",
      "RangeIndex: 2583 entries, 0 to 2582\n",
      "Data columns (total 7 columns):\n",
      " #   Column    Non-Null Count  Dtype \n",
      "---  ------    --------------  ----- \n",
      " 0   Date      2583 non-null   object\n",
      " 1   Price     2583 non-null   object\n",
      " 2   Open      2583 non-null   object\n",
      " 3   High      2583 non-null   object\n",
      " 4   Low       2583 non-null   object\n",
      " 5   Vol.      2578 non-null   object\n",
      " 6   Change %  2583 non-null   object\n",
      "dtypes: object(7)\n",
      "memory usage: 141.4+ KB\n"
     ]
    }
   ],
   "source": [
    "train.info()"
   ]
  },
  {
   "cell_type": "code",
   "execution_count": 9,
   "id": "0301ee2a",
   "metadata": {},
   "outputs": [
    {
     "name": "stdout",
     "output_type": "stream",
     "text": [
      "<class 'pandas.core.frame.DataFrame'>\n",
      "RangeIndex: 257 entries, 0 to 256\n",
      "Data columns (total 7 columns):\n",
      " #   Column    Non-Null Count  Dtype \n",
      "---  ------    --------------  ----- \n",
      " 0   Date      257 non-null    object\n",
      " 1   Price     257 non-null    object\n",
      " 2   Open      257 non-null    object\n",
      " 3   High      257 non-null    object\n",
      " 4   Low       257 non-null    object\n",
      " 5   Vol.      257 non-null    object\n",
      " 6   Change %  257 non-null    object\n",
      "dtypes: object(7)\n",
      "memory usage: 14.2+ KB\n"
     ]
    }
   ],
   "source": [
    "test.info()"
   ]
  },
  {
   "cell_type": "markdown",
   "id": "8a0ae713",
   "metadata": {},
   "source": [
    "# Preprocessing "
   ]
  },
  {
   "cell_type": "code",
   "execution_count": 10,
   "id": "a085aa6e",
   "metadata": {},
   "outputs": [
    {
     "data": {
      "text/plain": [
       "Vol.\n",
       "0.02K    48\n",
       "0.01K    45\n",
       "0.04K    42\n",
       "0.03K    38\n",
       "0.07K    33\n",
       "Name: count, dtype: int64"
      ]
     },
     "execution_count": 10,
     "metadata": {},
     "output_type": "execute_result"
    }
   ],
   "source": [
    "train['Vol.'].value_counts().head()    # We can see that the value type of this column is object, and they contain some kind of abbreviations (K)"
   ]
  },
  {
   "cell_type": "code",
   "execution_count": 11,
   "id": "d0643dc8",
   "metadata": {},
   "outputs": [
    {
     "data": {
      "text/html": [
       "<div>\n",
       "<style scoped>\n",
       "    .dataframe tbody tr th:only-of-type {\n",
       "        vertical-align: middle;\n",
       "    }\n",
       "\n",
       "    .dataframe tbody tr th {\n",
       "        vertical-align: top;\n",
       "    }\n",
       "\n",
       "    .dataframe thead th {\n",
       "        text-align: right;\n",
       "    }\n",
       "</style>\n",
       "<table border=\"1\" class=\"dataframe\">\n",
       "  <thead>\n",
       "    <tr style=\"text-align: right;\">\n",
       "      <th></th>\n",
       "      <th>Date</th>\n",
       "      <th>Price</th>\n",
       "      <th>Open</th>\n",
       "      <th>High</th>\n",
       "      <th>Low</th>\n",
       "      <th>Vol.</th>\n",
       "      <th>Change %</th>\n",
       "    </tr>\n",
       "  </thead>\n",
       "  <tbody>\n",
       "    <tr>\n",
       "      <th>4</th>\n",
       "      <td>12/26/2022</td>\n",
       "      <td>1,809.70</td>\n",
       "      <td>1,805.80</td>\n",
       "      <td>1,811.95</td>\n",
       "      <td>1,805.55</td>\n",
       "      <td>NaN</td>\n",
       "      <td>0.30%</td>\n",
       "    </tr>\n",
       "    <tr>\n",
       "      <th>26</th>\n",
       "      <td>11/24/2022</td>\n",
       "      <td>1,755.35</td>\n",
       "      <td>1,753.05</td>\n",
       "      <td>1,758.95</td>\n",
       "      <td>1,752.55</td>\n",
       "      <td>NaN</td>\n",
       "      <td>0.56%</td>\n",
       "    </tr>\n",
       "    <tr>\n",
       "      <th>84</th>\n",
       "      <td>09/05/2022</td>\n",
       "      <td>1,724.80</td>\n",
       "      <td>1,719.20</td>\n",
       "      <td>1,726.60</td>\n",
       "      <td>1,718.75</td>\n",
       "      <td>NaN</td>\n",
       "      <td>0.36%</td>\n",
       "    </tr>\n",
       "    <tr>\n",
       "      <th>85</th>\n",
       "      <td>09/04/2022</td>\n",
       "      <td>1,718.65</td>\n",
       "      <td>1,723.60</td>\n",
       "      <td>1,723.75</td>\n",
       "      <td>1,718.65</td>\n",
       "      <td>NaN</td>\n",
       "      <td>0.06%</td>\n",
       "    </tr>\n",
       "    <tr>\n",
       "      <th>2001</th>\n",
       "      <td>04/03/2015</td>\n",
       "      <td>1,200.90</td>\n",
       "      <td>1,200.90</td>\n",
       "      <td>1,200.90</td>\n",
       "      <td>1,200.90</td>\n",
       "      <td>NaN</td>\n",
       "      <td>0.00%</td>\n",
       "    </tr>\n",
       "  </tbody>\n",
       "</table>\n",
       "</div>"
      ],
      "text/plain": [
       "            Date     Price      Open      High       Low Vol. Change %\n",
       "4     12/26/2022  1,809.70  1,805.80  1,811.95  1,805.55  NaN    0.30%\n",
       "26    11/24/2022  1,755.35  1,753.05  1,758.95  1,752.55  NaN    0.56%\n",
       "84    09/05/2022  1,724.80  1,719.20  1,726.60  1,718.75  NaN    0.36%\n",
       "85    09/04/2022  1,718.65  1,723.60  1,723.75  1,718.65  NaN    0.06%\n",
       "2001  04/03/2015  1,200.90  1,200.90  1,200.90  1,200.90  NaN    0.00%"
      ]
     },
     "execution_count": 11,
     "metadata": {},
     "output_type": "execute_result"
    }
   ],
   "source": [
    "# Check invalid type in column Vol. in train dataset\n",
    "train[train['Vol.'].apply(lambda x: isinstance(x, float))]"
   ]
  },
  {
   "cell_type": "code",
   "execution_count": 12,
   "id": "124a4d54",
   "metadata": {},
   "outputs": [
    {
     "data": {
      "text/html": [
       "<div>\n",
       "<style scoped>\n",
       "    .dataframe tbody tr th:only-of-type {\n",
       "        vertical-align: middle;\n",
       "    }\n",
       "\n",
       "    .dataframe tbody tr th {\n",
       "        vertical-align: top;\n",
       "    }\n",
       "\n",
       "    .dataframe thead th {\n",
       "        text-align: right;\n",
       "    }\n",
       "</style>\n",
       "<table border=\"1\" class=\"dataframe\">\n",
       "  <thead>\n",
       "    <tr style=\"text-align: right;\">\n",
       "      <th></th>\n",
       "      <th>Date</th>\n",
       "      <th>Price</th>\n",
       "      <th>Open</th>\n",
       "      <th>High</th>\n",
       "      <th>Low</th>\n",
       "      <th>Vol.</th>\n",
       "      <th>Change %</th>\n",
       "    </tr>\n",
       "  </thead>\n",
       "  <tbody>\n",
       "  </tbody>\n",
       "</table>\n",
       "</div>"
      ],
      "text/plain": [
       "Empty DataFrame\n",
       "Columns: [Date, Price, Open, High, Low, Vol., Change %]\n",
       "Index: []"
      ]
     },
     "execution_count": 12,
     "metadata": {},
     "output_type": "execute_result"
    }
   ],
   "source": [
    "# Check invalid type in column Vol. in test dataset\n",
    "test[test['Vol.'].apply(lambda x: isinstance(x, float))]"
   ]
  },
  {
   "cell_type": "code",
   "execution_count": 7,
   "id": "1f3f3c9c",
   "metadata": {},
   "outputs": [],
   "source": [
    "# Fill in missing values with most frequent values\n",
    "mode = train['Vol.'].mode()[0]\n",
    "train['Vol.'] = train['Vol.'].fillna(mode)"
   ]
  },
  {
   "cell_type": "code",
   "execution_count": 14,
   "id": "8bec0fa5",
   "metadata": {},
   "outputs": [
    {
     "data": {
      "text/plain": [
       "Change %\n",
       "0.00%     29\n",
       "0.04%     27\n",
       "0.03%     25\n",
       "-0.20%    24\n",
       "-0.14%    23\n",
       "Name: count, dtype: int64"
      ]
     },
     "execution_count": 14,
     "metadata": {},
     "output_type": "execute_result"
    }
   ],
   "source": [
    "train['Change %'].value_counts().head()    # We can see that the value type of this column is object, and they contain some kind of abbreviations (%)"
   ]
  },
  {
   "cell_type": "code",
   "execution_count": 8,
   "id": "8ab0af91",
   "metadata": {},
   "outputs": [],
   "source": [
    "# Create a function to change the type of column into suitable type that can be used.\n",
    "# Specifically, change different units of values in Vol. into numeric\n",
    "# And remove % sign in Change column\n",
    "def change_type(value):\n",
    "  if isinstance(value, str):\n",
    "    if 'K' in value:\n",
    "      return float(value.replace('K', '')) * 1e3\n",
    "    elif 'M' in value:\n",
    "      return float(value.replace('M', '')) * 1e6\n",
    "    elif 'B' in value:\n",
    "      return float(value.replace('B', '').astype(float)) * 1e9\n",
    "    elif '%' in value:\n",
    "      return float(value.replace('%', ''))\n",
    "    elif ',' in value:\n",
    "      return float(value.replace(',', ''))\n",
    "    else:\n",
    "      return float(value)\n",
    "  return value"
   ]
  },
  {
   "cell_type": "code",
   "execution_count": 9,
   "id": "1a283094",
   "metadata": {},
   "outputs": [],
   "source": [
    "def preprocess(df):\n",
    "  df['Date'] = pd.to_datetime(df['Date'])\n",
    "  df['Vol.'] = df['Vol.'].apply(lambda x: change_type(x))\n",
    "  df['Change %'] = df['Change %'].apply(lambda x: change_type(x))\n",
    "  df['Open'] = df['Open'].apply(lambda x: change_type(x))\n",
    "  df['High'] = df['High'].apply(lambda x: change_type(x))\n",
    "  df['Low'] = df['Low'].apply(lambda x: change_type(x))\n",
    "  df['Price'] = df['Price'].apply(lambda x: change_type(x))\n",
    "  df.rename(columns={'Vol.': 'Volume', 'Change %': 'Change'}, inplace=True)\n",
    "  df.sort_values(by = 'Date', ascending = True, inplace = True)\n",
    "  df.set_index('Date', inplace=True)\n",
    "  return df"
   ]
  },
  {
   "cell_type": "code",
   "execution_count": 13,
   "id": "e6c22546",
   "metadata": {},
   "outputs": [
    {
     "data": {
      "text/html": [
       "<div>\n",
       "<style scoped>\n",
       "    .dataframe tbody tr th:only-of-type {\n",
       "        vertical-align: middle;\n",
       "    }\n",
       "\n",
       "    .dataframe tbody tr th {\n",
       "        vertical-align: top;\n",
       "    }\n",
       "\n",
       "    .dataframe thead th {\n",
       "        text-align: right;\n",
       "    }\n",
       "</style>\n",
       "<table border=\"1\" class=\"dataframe\">\n",
       "  <thead>\n",
       "    <tr style=\"text-align: right;\">\n",
       "      <th></th>\n",
       "      <th>Price</th>\n",
       "      <th>Open</th>\n",
       "      <th>High</th>\n",
       "      <th>Low</th>\n",
       "      <th>Volume</th>\n",
       "      <th>Change</th>\n",
       "    </tr>\n",
       "    <tr>\n",
       "      <th>Date</th>\n",
       "      <th></th>\n",
       "      <th></th>\n",
       "      <th></th>\n",
       "      <th></th>\n",
       "      <th></th>\n",
       "      <th></th>\n",
       "    </tr>\n",
       "  </thead>\n",
       "  <tbody>\n",
       "    <tr>\n",
       "      <th>2013-01-02</th>\n",
       "      <td>1689.9</td>\n",
       "      <td>1675.8</td>\n",
       "      <td>1695.00</td>\n",
       "      <td>1672.10</td>\n",
       "      <td>60.0</td>\n",
       "      <td>0.78</td>\n",
       "    </tr>\n",
       "    <tr>\n",
       "      <th>2013-01-03</th>\n",
       "      <td>1675.6</td>\n",
       "      <td>1688.0</td>\n",
       "      <td>1689.30</td>\n",
       "      <td>1664.30</td>\n",
       "      <td>190.0</td>\n",
       "      <td>-0.85</td>\n",
       "    </tr>\n",
       "    <tr>\n",
       "      <th>2013-01-04</th>\n",
       "      <td>1649.9</td>\n",
       "      <td>1664.4</td>\n",
       "      <td>1664.40</td>\n",
       "      <td>1630.00</td>\n",
       "      <td>310.0</td>\n",
       "      <td>-1.53</td>\n",
       "    </tr>\n",
       "    <tr>\n",
       "      <th>2013-01-07</th>\n",
       "      <td>1647.2</td>\n",
       "      <td>1657.3</td>\n",
       "      <td>1663.80</td>\n",
       "      <td>1645.30</td>\n",
       "      <td>90.0</td>\n",
       "      <td>-0.16</td>\n",
       "    </tr>\n",
       "    <tr>\n",
       "      <th>2013-01-08</th>\n",
       "      <td>1663.2</td>\n",
       "      <td>1651.5</td>\n",
       "      <td>1662.60</td>\n",
       "      <td>1648.80</td>\n",
       "      <td>130.0</td>\n",
       "      <td>0.97</td>\n",
       "    </tr>\n",
       "    <tr>\n",
       "      <th>...</th>\n",
       "      <td>...</td>\n",
       "      <td>...</td>\n",
       "      <td>...</td>\n",
       "      <td>...</td>\n",
       "      <td>...</td>\n",
       "      <td>...</td>\n",
       "    </tr>\n",
       "    <tr>\n",
       "      <th>2022-12-26</th>\n",
       "      <td>1809.7</td>\n",
       "      <td>1805.8</td>\n",
       "      <td>1811.95</td>\n",
       "      <td>1805.55</td>\n",
       "      <td>20.0</td>\n",
       "      <td>0.30</td>\n",
       "    </tr>\n",
       "    <tr>\n",
       "      <th>2022-12-27</th>\n",
       "      <td>1823.1</td>\n",
       "      <td>1808.2</td>\n",
       "      <td>1841.90</td>\n",
       "      <td>1808.00</td>\n",
       "      <td>159620.0</td>\n",
       "      <td>0.74</td>\n",
       "    </tr>\n",
       "    <tr>\n",
       "      <th>2022-12-28</th>\n",
       "      <td>1815.8</td>\n",
       "      <td>1822.4</td>\n",
       "      <td>1822.80</td>\n",
       "      <td>1804.20</td>\n",
       "      <td>118080.0</td>\n",
       "      <td>-0.40</td>\n",
       "    </tr>\n",
       "    <tr>\n",
       "      <th>2022-12-29</th>\n",
       "      <td>1826.0</td>\n",
       "      <td>1812.3</td>\n",
       "      <td>1827.30</td>\n",
       "      <td>1811.20</td>\n",
       "      <td>105990.0</td>\n",
       "      <td>0.56</td>\n",
       "    </tr>\n",
       "    <tr>\n",
       "      <th>2022-12-30</th>\n",
       "      <td>1826.2</td>\n",
       "      <td>1821.8</td>\n",
       "      <td>1832.40</td>\n",
       "      <td>1819.80</td>\n",
       "      <td>107500.0</td>\n",
       "      <td>0.01</td>\n",
       "    </tr>\n",
       "  </tbody>\n",
       "</table>\n",
       "<p>2583 rows × 6 columns</p>\n",
       "</div>"
      ],
      "text/plain": [
       "             Price    Open     High      Low    Volume  Change\n",
       "Date                                                          \n",
       "2013-01-02  1689.9  1675.8  1695.00  1672.10      60.0    0.78\n",
       "2013-01-03  1675.6  1688.0  1689.30  1664.30     190.0   -0.85\n",
       "2013-01-04  1649.9  1664.4  1664.40  1630.00     310.0   -1.53\n",
       "2013-01-07  1647.2  1657.3  1663.80  1645.30      90.0   -0.16\n",
       "2013-01-08  1663.2  1651.5  1662.60  1648.80     130.0    0.97\n",
       "...            ...     ...      ...      ...       ...     ...\n",
       "2022-12-26  1809.7  1805.8  1811.95  1805.55      20.0    0.30\n",
       "2022-12-27  1823.1  1808.2  1841.90  1808.00  159620.0    0.74\n",
       "2022-12-28  1815.8  1822.4  1822.80  1804.20  118080.0   -0.40\n",
       "2022-12-29  1826.0  1812.3  1827.30  1811.20  105990.0    0.56\n",
       "2022-12-30  1826.2  1821.8  1832.40  1819.80  107500.0    0.01\n",
       "\n",
       "[2583 rows x 6 columns]"
      ]
     },
     "execution_count": 13,
     "metadata": {},
     "output_type": "execute_result"
    }
   ],
   "source": [
    "preprocessed_train = preprocess(train)\n",
    "preprocessed_train"
   ]
  },
  {
   "cell_type": "code",
   "execution_count": 10,
   "id": "64a0f65b",
   "metadata": {},
   "outputs": [
    {
     "data": {
      "text/html": [
       "<div>\n",
       "<style scoped>\n",
       "    .dataframe tbody tr th:only-of-type {\n",
       "        vertical-align: middle;\n",
       "    }\n",
       "\n",
       "    .dataframe tbody tr th {\n",
       "        vertical-align: top;\n",
       "    }\n",
       "\n",
       "    .dataframe thead th {\n",
       "        text-align: right;\n",
       "    }\n",
       "</style>\n",
       "<table border=\"1\" class=\"dataframe\">\n",
       "  <thead>\n",
       "    <tr style=\"text-align: right;\">\n",
       "      <th></th>\n",
       "      <th>Price</th>\n",
       "      <th>Open</th>\n",
       "      <th>High</th>\n",
       "      <th>Low</th>\n",
       "      <th>Volume</th>\n",
       "      <th>Change</th>\n",
       "    </tr>\n",
       "    <tr>\n",
       "      <th>Date</th>\n",
       "      <th></th>\n",
       "      <th></th>\n",
       "      <th></th>\n",
       "      <th></th>\n",
       "      <th></th>\n",
       "      <th></th>\n",
       "    </tr>\n",
       "  </thead>\n",
       "  <tbody>\n",
       "    <tr>\n",
       "      <th>2023-01-03</th>\n",
       "      <td>1846.1</td>\n",
       "      <td>1831.8</td>\n",
       "      <td>1856.6</td>\n",
       "      <td>1831.3</td>\n",
       "      <td>212270.0</td>\n",
       "      <td>1.09</td>\n",
       "    </tr>\n",
       "    <tr>\n",
       "      <th>2023-01-04</th>\n",
       "      <td>1859.0</td>\n",
       "      <td>1845.2</td>\n",
       "      <td>1871.3</td>\n",
       "      <td>1842.0</td>\n",
       "      <td>198350.0</td>\n",
       "      <td>0.70</td>\n",
       "    </tr>\n",
       "    <tr>\n",
       "      <th>2023-01-05</th>\n",
       "      <td>1840.6</td>\n",
       "      <td>1861.2</td>\n",
       "      <td>1864.3</td>\n",
       "      <td>1829.9</td>\n",
       "      <td>188600.0</td>\n",
       "      <td>-0.99</td>\n",
       "    </tr>\n",
       "    <tr>\n",
       "      <th>2023-01-06</th>\n",
       "      <td>1869.7</td>\n",
       "      <td>1835.9</td>\n",
       "      <td>1875.2</td>\n",
       "      <td>1835.2</td>\n",
       "      <td>215370.0</td>\n",
       "      <td>1.58</td>\n",
       "    </tr>\n",
       "    <tr>\n",
       "      <th>2023-01-09</th>\n",
       "      <td>1877.8</td>\n",
       "      <td>1872.8</td>\n",
       "      <td>1886.4</td>\n",
       "      <td>1869.3</td>\n",
       "      <td>204550.0</td>\n",
       "      <td>0.43</td>\n",
       "    </tr>\n",
       "  </tbody>\n",
       "</table>\n",
       "</div>"
      ],
      "text/plain": [
       "             Price    Open    High     Low    Volume  Change\n",
       "Date                                                        \n",
       "2023-01-03  1846.1  1831.8  1856.6  1831.3  212270.0    1.09\n",
       "2023-01-04  1859.0  1845.2  1871.3  1842.0  198350.0    0.70\n",
       "2023-01-05  1840.6  1861.2  1864.3  1829.9  188600.0   -0.99\n",
       "2023-01-06  1869.7  1835.9  1875.2  1835.2  215370.0    1.58\n",
       "2023-01-09  1877.8  1872.8  1886.4  1869.3  204550.0    0.43"
      ]
     },
     "execution_count": 10,
     "metadata": {},
     "output_type": "execute_result"
    }
   ],
   "source": [
    "preprocessed_test = preprocess(test)\n",
    "preprocessed_test.head()"
   ]
  },
  {
   "cell_type": "code",
   "execution_count": 12,
   "id": "8b80af9b",
   "metadata": {},
   "outputs": [],
   "source": [
    "preprocessed_test.to_csv(r\"C:\\Users\\Dell\\Downloads\\gold_price(2023)_preprocessed.csv\", index=True)"
   ]
  },
  {
   "cell_type": "code",
   "execution_count": 19,
   "id": "313214e6",
   "metadata": {},
   "outputs": [
    {
     "data": {
      "image/png": "[encoded data removed]",
      "text/plain": [
       "<Figure size 1000x800 with 2 Axes>"
      ]
     },
     "metadata": {},
     "output_type": "display_data"
    }
   ],
   "source": [
    "# Compute correlation matrix including the target\n",
    "corr_matrix = preprocessed_train.corr(numeric_only=True)\n",
    "\n",
    "# Plot the heatmap\n",
    "plt.figure(figsize=(10, 8))\n",
    "sns.heatmap(corr_matrix, annot=True, cmap='coolwarm', fmt=\".2f\", linewidths=0.5)\n",
    "plt.title(\"Correlation Heatmap\")\n",
    "plt.show()"
   ]
  },
  {
   "cell_type": "markdown",
   "id": "c17bff56",
   "metadata": {},
   "source": [
    "From the heatmap, it is clear that both columns with extremely high correlation with target (Low, High, Open) and columns with extremely low correlation with target (Volume, Change) have no predictive power or any impact an the target. Therefore, these columns will be removed before training."
   ]
  },
  {
   "cell_type": "markdown",
   "id": "d8db6296",
   "metadata": {},
   "source": [
    "# LSTM Model"
   ]
  },
  {
   "cell_type": "markdown",
   "id": "2e103e4d",
   "metadata": {},
   "source": [
    "## Split and Scale the datasets"
   ]
  },
  {
   "cell_type": "code",
   "execution_count": 20,
   "id": "eda1d51a",
   "metadata": {},
   "outputs": [],
   "source": [
    "n = len(train)\n",
    "train_size = int(n * 0.8)\n",
    "\n",
    "# Split the data\n",
    "train = preprocessed_train.iloc[:train_size]\n",
    "val = preprocessed_train.iloc[train_size:]\n",
    "\n",
    "# MinMax scaling the dataset\n",
    "scaler = MinMaxScaler(feature_range=(0,1))\n",
    "scaled_train = scaler.fit_transform(train)\n",
    "scaled_val = scaler.transform(val)\n",
    "scaled_test = scaler.transform(preprocessed_test)\n"
   ]
  },
  {
   "cell_type": "markdown",
   "id": "df178fe9",
   "metadata": {},
   "source": [
    "## Reshape the datasets into 3D"
   ]
  },
  {
   "cell_type": "code",
   "execution_count": 21,
   "id": "f0413704",
   "metadata": {},
   "outputs": [],
   "source": [
    "window_size = 30   # many previous time steps you want to use to predict the next one. For each prediction, you'll look back at the last 30 time steps / 1 month.\n",
    "X_train_3d = []\n",
    "y_train_3d = []\n",
    "\n",
    "X_val_3d = []\n",
    "y_val_3d = []\n",
    "\n",
    "X_test_3d = []\n",
    "y_test_3d = []\n",
    "for i in range(window_size, len(scaled_train)):\n",
    "    X_train_3d.append(scaled_train[i - window_size:i, 0]) # grabs a slice of 30 consecutive time steps\n",
    "    y_train_3d.append(scaled_train[i, 0]) #  grabs the actual value at time i\n",
    "    \n",
    "for i in range(window_size, len(scaled_test)):\n",
    "    X_val_3d.append(scaled_val[i - window_size:i, 0]) # grabs a slice of 30 consecutive time steps\n",
    "    y_val_3d.append(scaled_val[i, 0]) #  grabs the actual value at time i\n",
    "    \n",
    "for i in range(window_size, len(scaled_test)):\n",
    "    X_test_3d.append(scaled_test[i - window_size:i, 0]) # grabs a slice of 30 consecutive time steps\n",
    "    y_test_3d.append(scaled_test[i, 0]) #  grabs the actual value at time i\n",
    "\n",
    "# Turn the data into numpy array\n",
    "X_train_3d = np.array(X_train_3d)\n",
    "y_train = np.array(y_train_3d)\n",
    "X_val_3d = np.array(X_val_3d)\n",
    "y_val = np.array(y_val_3d)\n",
    "X_test_3d = np.array(X_test_3d)\n",
    "y_test = np.array(y_test_3d)\n",
    "\n",
    "\n",
    "# Reshape the data into 3d\n",
    "X_train = X_train_3d.reshape((X_train_3d.shape[0], X_train_3d.shape[1], 1))\n",
    "X_val = X_val_3d.reshape((X_val_3d.shape[0], X_val_3d.shape[1], 1))\n",
    "X_test = X_test_3d.reshape((X_test_3d.shape[0], X_test_3d.shape[1], 1))\n",
    "\n"
   ]
  },
  {
   "cell_type": "markdown",
   "id": "390be153",
   "metadata": {},
   "source": [
    "# Creating the LSTM model"
   ]
  },
  {
   "cell_type": "markdown",
   "id": "10ae4df0",
   "metadata": {},
   "source": [
    "## Hyperparameter Tuning"
   ]
  },
  {
   "cell_type": "code",
   "execution_count": null,
   "id": "e1fd5a76",
   "metadata": {},
   "outputs": [
    {
     "name": "stdout",
     "output_type": "stream",
     "text": [
      "Trial 10 Complete [00h 01m 13s]\n",
      "val_loss: 0.0013109574792906642\n",
      "\n",
      "Best val_loss So Far: 0.000606269168201834\n",
      "Total elapsed time: 00h 12m 03s\n"
     ]
    },
    {
     "name": "stderr",
     "output_type": "stream",
     "text": [
      "c:\\Users\\ADMIN\\AppData\\Local\\Programs\\Python\\Python312\\Lib\\site-packages\\keras\\src\\saving\\saving_lib.py:757: UserWarning: Skipping variable loading for optimizer 'adam', because it has 2 variables whereas the saved optimizer has 18 variables. \n",
      "  saveable.load_own_variables(weights_store.get(inner_path))\n"
     ]
    }
   ],
   "source": [
    "# The model consists of two LSTM layers and drop out layer after each to prevent overfitting\n",
    "# The model concludes with a Dense layer to predict a single value\n",
    "def build_model(hp):\n",
    "    model = Sequential()\n",
    "    model.add(LSTM(\n",
    "        units=hp.Int('units', min_value=32, max_value=256, step=32),\n",
    "        return_sequences=True,\n",
    "        input_shape=(X_train.shape[1], X_train.shape[2])\n",
    "    ))\n",
    "    model.add(Dropout(0.2))\n",
    "    model.add(LSTM(\n",
    "        units=hp.Int('units', min_value=32, max_value=256, step=32),\n",
    "        return_sequences=False,\n",
    "        input_shape=(X_train.shape[1], X_train.shape[2])\n",
    "    ))\n",
    "    model.add(Dropout(0.2))\n",
    "    model.add(Dense(1))\n",
    "    \n",
    "    model.compile(\n",
    "        optimizer=tf.keras.optimizers.Adam(\n",
    "            hp.Choice('learning_rate', values=[1e-2, 1e-3, 1e-4])\n",
    "        ),\n",
    "        loss='mse'\n",
    "    )\n",
    "    return model\n",
    "# Set up the tuner\n",
    "tuner = RandomSearch(\n",
    "    build_model,\n",
    "    objective='val_loss',\n",
    "    max_trials=10,\n",
    "    executions_per_trial=1,\n",
    "    directory='lstm_tuning',\n",
    "    project_name='time_series',\n",
    "    overwrite=True\n",
    "\n",
    ")\n",
    "\n",
    "# Perform the search\n",
    "tuner.search(X_train, y_train, epochs=10, validation_data=(X_val, y_val))\n",
    "\n",
    "# Get the best model\n",
    "best_model = tuner.get_best_models(num_models=1)[0]"
   ]
  },
  {
   "cell_type": "code",
   "execution_count": 24,
   "id": "296509b6",
   "metadata": {},
   "outputs": [
    {
     "data": {
      "text/html": [
       "<pre style=\"white-space:pre;overflow-x:auto;line-height:normal;font-family:Menlo,'DejaVu Sans Mono',consolas,'Courier New',monospace\"><span style=\"font-weight: bold\">Model: \"sequential\"</span>\n",
       "</pre>\n"
      ],
      "text/plain": [
       "\u001b[1mModel: \"sequential\"\u001b[0m\n"
      ]
     },
     "metadata": {},
     "output_type": "display_data"
    },
    {
     "data": {
      "text/html": [
       "<pre style=\"white-space:pre;overflow-x:auto;line-height:normal;font-family:Menlo,'DejaVu Sans Mono',consolas,'Courier New',monospace\">┏━━━━━━━━━━━━━━━━━━━━━━━━━━━━━━━━━┳━━━━━━━━━━━━━━━━━━━━━━━━┳━━━━━━━━━━━━━━━┓\n",
       "┃<span style=\"font-weight: bold\"> Layer (type)                    </span>┃<span style=\"font-weight: bold\"> Output Shape           </span>┃<span style=\"font-weight: bold\">       Param # </span>┃\n",
       "┡━━━━━━━━━━━━━━━━━━━━━━━━━━━━━━━━━╇━━━━━━━━━━━━━━━━━━━━━━━━╇━━━━━━━━━━━━━━━┩\n",
       "│ lstm (<span style=\"color: #0087ff; text-decoration-color: #0087ff\">LSTM</span>)                     │ (<span style=\"color: #00d7ff; text-decoration-color: #00d7ff\">None</span>, <span style=\"color: #00af00; text-decoration-color: #00af00\">30</span>, <span style=\"color: #00af00; text-decoration-color: #00af00\">64</span>)         │        <span style=\"color: #00af00; text-decoration-color: #00af00\">16,896</span> │\n",
       "├─────────────────────────────────┼────────────────────────┼───────────────┤\n",
       "│ dropout (<span style=\"color: #0087ff; text-decoration-color: #0087ff\">Dropout</span>)               │ (<span style=\"color: #00d7ff; text-decoration-color: #00d7ff\">None</span>, <span style=\"color: #00af00; text-decoration-color: #00af00\">30</span>, <span style=\"color: #00af00; text-decoration-color: #00af00\">64</span>)         │             <span style=\"color: #00af00; text-decoration-color: #00af00\">0</span> │\n",
       "├─────────────────────────────────┼────────────────────────┼───────────────┤\n",
       "│ lstm_1 (<span style=\"color: #0087ff; text-decoration-color: #0087ff\">LSTM</span>)                   │ (<span style=\"color: #00d7ff; text-decoration-color: #00d7ff\">None</span>, <span style=\"color: #00af00; text-decoration-color: #00af00\">64</span>)             │        <span style=\"color: #00af00; text-decoration-color: #00af00\">33,024</span> │\n",
       "├─────────────────────────────────┼────────────────────────┼───────────────┤\n",
       "│ dropout_1 (<span style=\"color: #0087ff; text-decoration-color: #0087ff\">Dropout</span>)             │ (<span style=\"color: #00d7ff; text-decoration-color: #00d7ff\">None</span>, <span style=\"color: #00af00; text-decoration-color: #00af00\">64</span>)             │             <span style=\"color: #00af00; text-decoration-color: #00af00\">0</span> │\n",
       "├─────────────────────────────────┼────────────────────────┼───────────────┤\n",
       "│ dense (<span style=\"color: #0087ff; text-decoration-color: #0087ff\">Dense</span>)                   │ (<span style=\"color: #00d7ff; text-decoration-color: #00d7ff\">None</span>, <span style=\"color: #00af00; text-decoration-color: #00af00\">1</span>)              │            <span style=\"color: #00af00; text-decoration-color: #00af00\">65</span> │\n",
       "└─────────────────────────────────┴────────────────────────┴───────────────┘\n",
       "</pre>\n"
      ],
      "text/plain": [
       "┏━━━━━━━━━━━━━━━━━━━━━━━━━━━━━━━━━┳━━━━━━━━━━━━━━━━━━━━━━━━┳━━━━━━━━━━━━━━━┓\n",
       "┃\u001b[1m \u001b[0m\u001b[1mLayer (type)                   \u001b[0m\u001b[1m \u001b[0m┃\u001b[1m \u001b[0m\u001b[1mOutput Shape          \u001b[0m\u001b[1m \u001b[0m┃\u001b[1m \u001b[0m\u001b[1m      Param #\u001b[0m\u001b[1m \u001b[0m┃\n",
       "┡━━━━━━━━━━━━━━━━━━━━━━━━━━━━━━━━━╇━━━━━━━━━━━━━━━━━━━━━━━━╇━━━━━━━━━━━━━━━┩\n",
       "│ lstm (\u001b[38;5;33mLSTM\u001b[0m)                     │ (\u001b[38;5;45mNone\u001b[0m, \u001b[38;5;34m30\u001b[0m, \u001b[38;5;34m64\u001b[0m)         │        \u001b[38;5;34m16,896\u001b[0m │\n",
       "├─────────────────────────────────┼────────────────────────┼───────────────┤\n",
       "│ dropout (\u001b[38;5;33mDropout\u001b[0m)               │ (\u001b[38;5;45mNone\u001b[0m, \u001b[38;5;34m30\u001b[0m, \u001b[38;5;34m64\u001b[0m)         │             \u001b[38;5;34m0\u001b[0m │\n",
       "├─────────────────────────────────┼────────────────────────┼───────────────┤\n",
       "│ lstm_1 (\u001b[38;5;33mLSTM\u001b[0m)                   │ (\u001b[38;5;45mNone\u001b[0m, \u001b[38;5;34m64\u001b[0m)             │        \u001b[38;5;34m33,024\u001b[0m │\n",
       "├─────────────────────────────────┼────────────────────────┼───────────────┤\n",
       "│ dropout_1 (\u001b[38;5;33mDropout\u001b[0m)             │ (\u001b[38;5;45mNone\u001b[0m, \u001b[38;5;34m64\u001b[0m)             │             \u001b[38;5;34m0\u001b[0m │\n",
       "├─────────────────────────────────┼────────────────────────┼───────────────┤\n",
       "│ dense (\u001b[38;5;33mDense\u001b[0m)                   │ (\u001b[38;5;45mNone\u001b[0m, \u001b[38;5;34m1\u001b[0m)              │            \u001b[38;5;34m65\u001b[0m │\n",
       "└─────────────────────────────────┴────────────────────────┴───────────────┘\n"
      ]
     },
     "metadata": {},
     "output_type": "display_data"
    },
    {
     "data": {
      "text/html": [
       "<pre style=\"white-space:pre;overflow-x:auto;line-height:normal;font-family:Menlo,'DejaVu Sans Mono',consolas,'Courier New',monospace\"><span style=\"font-weight: bold\"> Total params: </span><span style=\"color: #00af00; text-decoration-color: #00af00\">49,985</span> (195.25 KB)\n",
       "</pre>\n"
      ],
      "text/plain": [
       "\u001b[1m Total params: \u001b[0m\u001b[38;5;34m49,985\u001b[0m (195.25 KB)\n"
      ]
     },
     "metadata": {},
     "output_type": "display_data"
    },
    {
     "data": {
      "text/html": [
       "<pre style=\"white-space:pre;overflow-x:auto;line-height:normal;font-family:Menlo,'DejaVu Sans Mono',consolas,'Courier New',monospace\"><span style=\"font-weight: bold\"> Trainable params: </span><span style=\"color: #00af00; text-decoration-color: #00af00\">49,985</span> (195.25 KB)\n",
       "</pre>\n"
      ],
      "text/plain": [
       "\u001b[1m Trainable params: \u001b[0m\u001b[38;5;34m49,985\u001b[0m (195.25 KB)\n"
      ]
     },
     "metadata": {},
     "output_type": "display_data"
    },
    {
     "data": {
      "text/html": [
       "<pre style=\"white-space:pre;overflow-x:auto;line-height:normal;font-family:Menlo,'DejaVu Sans Mono',consolas,'Courier New',monospace\"><span style=\"font-weight: bold\"> Non-trainable params: </span><span style=\"color: #00af00; text-decoration-color: #00af00\">0</span> (0.00 B)\n",
       "</pre>\n"
      ],
      "text/plain": [
       "\u001b[1m Non-trainable params: \u001b[0m\u001b[38;5;34m0\u001b[0m (0.00 B)\n"
      ]
     },
     "metadata": {},
     "output_type": "display_data"
    }
   ],
   "source": [
    "best_model.summary()"
   ]
  },
  {
   "cell_type": "code",
   "execution_count": 25,
   "id": "a7f3f5c0",
   "metadata": {},
   "outputs": [
    {
     "name": "stdout",
     "output_type": "stream",
     "text": [
      "lstm has 64 units\n",
      "lstm_1 has 64 units\n",
      "dense has 1 units\n"
     ]
    }
   ],
   "source": [
    "# The best number of units for each layer of the model\n",
    "for layer in best_model.layers:\n",
    "    if hasattr(layer, 'units'):\n",
    "        print(f\"{layer.name} has {layer.units} units\")"
   ]
  },
  {
   "cell_type": "code",
   "execution_count": 26,
   "id": "68790539",
   "metadata": {},
   "outputs": [
    {
     "name": "stdout",
     "output_type": "stream",
     "text": [
      "Learning rate: 0.009999999776482582\n"
     ]
    }
   ],
   "source": [
    "# The best learning rate of the model\n",
    "learning_rate = best_model.optimizer.learning_rate.numpy()\n",
    "print(f\"Learning rate: {learning_rate}\")"
   ]
  },
  {
   "cell_type": "code",
   "execution_count": 30,
   "id": "768f67ee",
   "metadata": {},
   "outputs": [],
   "source": [
    "from sklearn.metrics import mean_squared_error, mean_absolute_error, r2_score"
   ]
  },
  {
   "cell_type": "code",
   "execution_count": 32,
   "id": "2041f442",
   "metadata": {},
   "outputs": [
    {
     "name": "stdout",
     "output_type": "stream",
     "text": [
      "\u001b[1m8/8\u001b[0m \u001b[32m━━━━━━━━━━━━━━━━━━━━\u001b[0m\u001b[37m\u001b[0m \u001b[1m0s\u001b[0m 26ms/step\n",
      "MSE: 0.0006\n",
      "RMSE: 0.0242\n",
      "MAE: 0.0194\n",
      "R²: 0.8334\n"
     ]
    }
   ],
   "source": [
    "# Train and predict\n",
    "predictions = best_model.predict(X_test)\n",
    "\n",
    "# Mean Squared Error (MSE)\n",
    "mse = mean_squared_error(y_test, predictions)\n",
    "# Root Mean Squared Error (RMSE)\n",
    "rmse = np.sqrt(mse)\n",
    "# Mean Absolute Error (MAE)\n",
    "mae = mean_absolute_error(y_test, predictions)\n",
    "# R-squared (R²) Score\n",
    "r2 = r2_score(y_test, predictions)\n",
    "\n",
    "print(f\"MSE: {mse:.4f}\")\n",
    "print(f\"RMSE: {rmse:.4f}\")\n",
    "print(f\"MAE: {mae:.4f}\")\n",
    "print(f\"R²: {r2:.4f}\")"
   ]
  },
  {
   "cell_type": "code",
   "execution_count": null,
   "id": "8a9c1a7f",
   "metadata": {},
   "outputs": [
    {
     "data": {
      "image/png": "[encoded data removed]",
      "text/plain": [
       "<Figure size 1200x600 with 1 Axes>"
      ]
     },
     "metadata": {},
     "output_type": "display_data"
    }
   ],
   "source": [
    "plt.figure(figsize=(12, 6))\n",
    "plt.plot(test.index[window_size:], y_test, label='Actual Price')\n",
    "plt.plot(test.index[window_size:], predictions, label='Predicted Price')\n",
    "plt.title('Actual vs Predicted Gold Price')\n",
    "plt.xlabel('Date')\n",
    "plt.ylabel('Price')\n",
    "plt.legend()\n",
    "plt.show()"
   ]
  }
 ],
 "metadata": {
  "kernelspec": {
   "display_name": "Python 3",
   "language": "python",
   "name": "python3"
  },
  "language_info": {
   "codemirror_mode": {
    "name": "ipython",
    "version": 3
   },
   "file_extension": ".py",
   "mimetype": "text/x-python",
   "name": "python",
   "nbconvert_exporter": "python",
   "pygments_lexer": "ipython3",
   "version": "3.11.9"
  }
 },
 "nbformat": 4,
 "nbformat_minor": 5
}
